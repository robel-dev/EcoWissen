{
 "cells": [
  {
   "cell_type": "code",
   "execution_count": 1,
   "id": "90bd2f1a-6d7c-4a7c-997a-995c7dac0a97",
   "metadata": {},
   "outputs": [],
   "source": [
    "# import necessary libraries\n"
   ]
  },
  {
   "cell_type": "code",
   "execution_count": 2,
   "id": "848db66f-523a-4195-bc83-72262376d395",
   "metadata": {},
   "outputs": [],
   "source": [
    "from langchain_community.document_loaders.json_loader import JSONLoader\n",
    "from langchain_text_splitters import RecursiveCharacterTextSplitter, RecursiveJsonSplitter"
   ]
  },
  {
   "cell_type": "markdown",
   "id": "65b7fdbe-3707-4c75-bde5-79b3c9a89761",
   "metadata": {},
   "source": [
    "# prepare json for vector database"
   ]
  },
  {
   "cell_type": "code",
   "execution_count": 4,
   "id": "1e8d6457-c32e-477e-a5ee-5732a326866a",
   "metadata": {},
   "outputs": [],
   "source": [
    "file1 = \"dataset/sus_goal_indicator_data/SGD_indicator.json\"\n",
    "file2 = \"dataset/sus_goal_indicator_data/sus-ind-goal.json\""
   ]
  },
  {
   "cell_type": "code",
   "execution_count": 68,
   "id": "d01ed4a1-50f8-4121-ba85-cf898f07e0f4",
   "metadata": {},
   "outputs": [],
   "source": [
    "loader = JSONLoader(\n",
    "    file_path=file1,\n",
    "    jq_schema='.[]',\n",
    "    text_content=False)"
   ]
  },
  {
   "cell_type": "code",
   "execution_count": 69,
   "id": "502d6df5-18f9-4a06-b368-c831ecc6b5e8",
   "metadata": {},
   "outputs": [],
   "source": [
    "data = loader.load()"
   ]
  },
  {
   "cell_type": "code",
   "execution_count": 74,
   "id": "cf171c81-1b48-42f0-ba4a-ce16534f15ea",
   "metadata": {},
   "outputs": [],
   "source": [
    "text_splitter = RecursiveCharacterTextSplitter(\n",
    "    # Set a really small chunk size, just to show.\n",
    "    chunk_size=650,\n",
    "    chunk_overlap=0,\n",
    "    length_function=len,\n",
    "    is_separator_regex=False,\n",
    ")"
   ]
  },
  {
   "cell_type": "code",
   "execution_count": 75,
   "id": "dd83c853-6944-467a-8ef8-5b6feef3e469",
   "metadata": {},
   "outputs": [],
   "source": [
    "chunks = text_splitter.split_documents(data)"
   ]
  },
  {
   "cell_type": "code",
   "execution_count": 77,
   "id": "c322d93b-ceef-46aa-9b59-6af1beb32666",
   "metadata": {},
   "outputs": [],
   "source": [
    "import os\n",
    "import pandas as pd\n",
    "\n",
    "def load_and_chunk(path):\n",
    "    chunks = []\n",
    "    for filename in os.listdir(path):\n",
    "        if filename.endswith(\".json\"):\n",
    "            file_path = os.path.join(path, filename)\n",
    "            loaded_doc = JSONLoader(\n",
    "                file_path=file_path,\n",
    "                jq_schema='.[]',\n",
    "                text_content=False)\n",
    "            \n",
    "            pages = loaded_doc.load()\n",
    "            \n",
    "            text_splitter = RecursiveCharacterTextSplitter(\n",
    "                chunk_size=650,\n",
    "                chunk_overlap=0,\n",
    "                length_function=len,\n",
    "                is_separator_regex=False,\n",
    "            )\n",
    "            chunk = text_splitter.split_documents(pages)\n",
    "            chunks.extend(chunk)\n",
    "            \n",
    "    return chunks"
   ]
  },
  {
   "cell_type": "code",
   "execution_count": 78,
   "id": "9db40837-bbed-463f-8cf8-44b9da56510a",
   "metadata": {},
   "outputs": [],
   "source": [
    "path = \"dataset/sus_goal_indicator_data/\""
   ]
  },
  {
   "cell_type": "code",
   "execution_count": 79,
   "id": "a39e7a82-852b-463a-ba2e-a88c38273351",
   "metadata": {},
   "outputs": [],
   "source": [
    "chunks = load_and_chunk(path)"
   ]
  },
  {
   "cell_type": "code",
   "execution_count": 84,
   "id": "82f1fe60-1b72-45aa-82a4-153e6f6086a2",
   "metadata": {},
   "outputs": [
    {
     "data": {
      "text/plain": [
       "Document(page_content='{\"Indicator number\": \"8th\", \"SDG core indicator\": \"Air quality\", \"Value 2012\": \"-\", \"Value 2013\": \"-\", \"Value 2014\": \"-\", \"Value 2015\": \"-\", \"Value 2016\": \"-\", \"Value 2017\": \"-\", \"Value 2018\": \"-\", \"Definition of the indicator\": \"Emissions of air pollutants (sulfur dioxide, nitrogen oxides, ammonia, volatile organic compounds and particulate matter)\"}', metadata={'source': '/home/jupyter-robelamare2016/experiments/FreiGPT/dataset/sus_goal_indicator_data/SGD_indicator.json', 'seq_num': 51})"
      ]
     },
     "execution_count": 84,
     "metadata": {},
     "output_type": "execute_result"
    }
   ],
   "source": [
    "chunks[160]"
   ]
  },
  {
   "cell_type": "markdown",
   "id": "ca5d44f3-95d2-421a-a5f3-cfe66fa192ad",
   "metadata": {},
   "source": [
    "# load an embedding model and save to the vector database"
   ]
  },
  {
   "cell_type": "code",
   "execution_count": 85,
   "id": "378d6e67-e4b0-4b2c-8ba4-a4aa83acfcb5",
   "metadata": {},
   "outputs": [],
   "source": [
    "from langchain.embeddings import HuggingFaceEmbeddings\n",
    "from langchain.vectorstores import Chroma"
   ]
  },
  {
   "cell_type": "code",
   "execution_count": 89,
   "id": "5741c079-f2a6-4952-b34e-1b124b40a358",
   "metadata": {},
   "outputs": [],
   "source": [
    "path_db = \"dataset/db\""
   ]
  },
  {
   "cell_type": "code",
   "execution_count": 86,
   "id": "a294522a-296e-49c9-8e25-f28809d74c51",
   "metadata": {},
   "outputs": [],
   "source": [
    "embedding_function = HuggingFaceEmbeddings(\n",
    "            model_name=\"BAAI/bge-large-en-v1.5\",\n",
    "        )"
   ]
  },
  {
   "cell_type": "code",
   "execution_count": 90,
   "id": "46080e48-f0e3-4f1a-8d17-3fa772d8d735",
   "metadata": {},
   "outputs": [],
   "source": [
    "vectordb = Chroma.from_documents(\n",
    "            documents=chunks,\n",
    "            embedding=embedding_function,\n",
    "            persist_directory=path_db\n",
    "        )"
   ]
  },
  {
   "cell_type": "code",
   "execution_count": 91,
   "id": "d91a83cf-2de8-4dba-8cef-31bf38c4721d",
   "metadata": {},
   "outputs": [],
   "source": [
    "db = Chroma(persist_directory=path_db, embedding_function=embedding_function)"
   ]
  },
  {
   "cell_type": "code",
   "execution_count": 92,
   "id": "6cee85a4-5690-4475-80a1-f727f88f4565",
   "metadata": {},
   "outputs": [
    {
     "data": {
      "text/plain": [
       "[Document(page_content='{\"Sustainability Goal\": \"07.4 Maintaining public safety\", \"Sustainability Indicator\": \"Crimes\", \"Value 2012\": \"-\", \"Value 2013\": 120, \"Value 2014\": 123, \"Value 2015\": 131, \"Value 2016\": 127, \"Value 2017\": 121, \"Value 2018\": 111, \"Value 2019\": \"-\", \"Value 2020\": \"-\", \"Definition of Indicator\": \"Registered crimes (number per 1,000 inhabitants)\", \"Data Source\": \"SDG Core Indicator (43), Police Crime Statistics of the Federal Criminal Police Office\"}', metadata={'seq_num': 55, 'source': '/home/jupyter-robelamare2016/experiments/FreiGPT/dataset/sus_goal_indicator_data/sus-ind-goal.json'}),\n",
       " Document(page_content='{\"Indicator number\": 43, \"SDG core indicator\": \"crimes\", \"Value 2012\": \"-\", \"Value 2013\": 120.1, \"Value 2014\": 122.8, \"Value 2015\": 130.5, \"Value 2016\": 126.8, \"Value 2017\": \"-\", \"Value 2018\": \"-\", \"Definition of the indicator\": \"Number of registered crimes per 1,000 inhabitants\"}', metadata={'seq_num': 43, 'source': '/home/jupyter-robelamare2016/experiments/FreiGPT/dataset/sus_goal_indicator_data/SGD_indicator.json'}),\n",
       " Document(page_content='{\"Sustainability Goal\": \"07.4 Maintaining public safety\", \"Sustainability Indicator\": \"Conflict mediations\", \"Value 2012\": 0, \"Value 2013\": 0, \"Value 2014\": 0, \"Value 2015\": 0, \"Value 2016\": 0, \"Value 2017\": 0, \"Value 2018\": 0, \"Value 2019\": 42, \"Value 2020\": 0, \"Definition of Indicator\": \"Conflict mediations by the enforcement service (number)\", \"Data Source\": \"Office for Public Order\"}', metadata={'seq_num': 56, 'source': '/home/jupyter-robelamare2016/experiments/FreiGPT/dataset/sus_goal_indicator_data/sus-ind-goal.json'}),\n",
       " Document(page_content='{\"Sustainability Goal\": \"07.2 Protection of the population\", \"Sustainability Indicator\": \"Traffic accidents\", \"Value 2012\": 6, \"Value 2013\": 6, \"Value 2014\": 6, \"Value 2015\": 6, \"Value 2016\": 6, \"Value 2017\": 6, \"Value 2018\": 6, \"Value 2019\": \"-\", \"Value 2020\": \"-\", \"Definition of Indicator\": \"Injured or killed persons in traffic accidents (number per 1,000 inhabitants)\", \"Data Source\": \"SDG Core Indicator (32), Statistical Offices of the States\"}', metadata={'seq_num': 52, 'source': '/home/jupyter-robelamare2016/experiments/FreiGPT/dataset/sus_goal_indicator_data/sus-ind-goal.json'})]"
      ]
     },
     "execution_count": 92,
     "metadata": {},
     "output_type": "execute_result"
    }
   ],
   "source": [
    "db.similarity_search(\"crime in 2014\")"
   ]
  },
  {
   "cell_type": "code",
   "execution_count": null,
   "id": "c64e18fa-187b-45ab-bc99-9a156e7a96e8",
   "metadata": {},
   "outputs": [],
   "source": []
  }
 ],
 "metadata": {
  "kernelspec": {
   "display_name": "Gemma Environment",
   "language": "python",
   "name": "myenv"
  },
  "language_info": {
   "codemirror_mode": {
    "name": "ipython",
    "version": 3
   },
   "file_extension": ".py",
   "mimetype": "text/x-python",
   "name": "python",
   "nbconvert_exporter": "python",
   "pygments_lexer": "ipython3",
   "version": "3.10.14"
  }
 },
 "nbformat": 4,
 "nbformat_minor": 5
}
