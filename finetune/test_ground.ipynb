{
 "cells": [
  {
   "cell_type": "code",
   "execution_count": 5,
   "id": "1fe89bb7-cc90-4941-a7d6-bdcb84ca5ac0",
   "metadata": {},
   "outputs": [],
   "source": [
    "from input_json import input_json"
   ]
  },
  {
   "cell_type": "code",
   "execution_count": 6,
   "id": "8b47f6e0-67ca-485f-8900-fa0b280736ed",
   "metadata": {},
   "outputs": [],
   "source": [
    "import json\n",
    "\n",
    "def transform_data(input_data):\n",
    "    transformed_data = []\n",
    "\n",
    "    for item in input_data:\n",
    "        indicator = item[\"SDG core indicator\"]\n",
    "        definition = item[\"Definition of the indicator\"]\n",
    "        for year in range(2012, 2019):\n",
    "            value_key = f\"Value {year}\"\n",
    "            if value_key in item:\n",
    "                value = item[value_key]\n",
    "                question = f\"What is the value of the indicator '{indicator}' ({definition}) in {year}?\"\n",
    "                transformed_data.append({\"question\": question, \"answer\": str(value)})\n",
    "\n",
    "    return transformed_data\n",
    "\n"
   ]
  },
  {
   "cell_type": "code",
   "execution_count": null,
   "id": "ca8abaf4-29cf-4204-97da-c1b631be170e",
   "metadata": {
    "scrolled": true
   },
   "outputs": [],
   "source": [
    "output_data = transform_data(input_json)\n",
    "#print(json.dumps(output_data, indent=2))"
   ]
  },
  {
   "cell_type": "code",
   "execution_count": 18,
   "id": "af75f0ed-05f8-4c91-846c-c6d4bc83ac5e",
   "metadata": {},
   "outputs": [],
   "source": [
    "file_path = 'data/output.json'"
   ]
  },
  {
   "cell_type": "code",
   "execution_count": 19,
   "id": "357ae22d-9973-4f7d-a2b0-6fb1feaf6222",
   "metadata": {},
   "outputs": [],
   "source": [
    "with open(file_path, 'w') as json_file:\n",
    "    json.dump(output_data, json_file, indent=2)"
   ]
  },
  {
   "cell_type": "code",
   "execution_count": 10,
   "id": "8382ea87-308f-4ccc-a971-67cc9e939e5e",
   "metadata": {},
   "outputs": [],
   "source": []
  },
  {
   "cell_type": "code",
   "execution_count": null,
   "id": "e0c65d0e-3cf6-4810-8c19-a0f819e28ded",
   "metadata": {
    "scrolled": true
   },
   "outputs": [],
   "source": []
  },
  {
   "cell_type": "code",
   "execution_count": null,
   "id": "37b8b0f1-a6bd-43b6-9a31-1e3ea479ff85",
   "metadata": {},
   "outputs": [],
   "source": []
  }
 ],
 "metadata": {
  "kernelspec": {
   "display_name": "Gemma Environment",
   "language": "python",
   "name": "myenv"
  },
  "language_info": {
   "codemirror_mode": {
    "name": "ipython",
    "version": 3
   },
   "file_extension": ".py",
   "mimetype": "text/x-python",
   "name": "python",
   "nbconvert_exporter": "python",
   "pygments_lexer": "ipython3",
   "version": "3.10.14"
  }
 },
 "nbformat": 4,
 "nbformat_minor": 5
}
